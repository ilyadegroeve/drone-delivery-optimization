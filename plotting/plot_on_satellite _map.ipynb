{
 "cells": [
  {
   "cell_type": "code",
   "execution_count": 2,
   "metadata": {},
   "outputs": [
    {
     "name": "stdout",
     "output_type": "stream",
     "text": [
      "Map saved to coordinates_map.html\n",
      "Open coordinates_map.html in your web browser to view the map.\n"
     ]
    }
   ],
   "source": [
    "# THIS CODE PLOTS COORDINATES ON A SATTELITE MAP\n",
    "\n",
    "import folium\n",
    "\n",
    "# Coordinates data\n",
    "coordinates_data = {\n",
    "    \"VUB\": (50.9407045, 4.2108946),\n",
    "    \"Edith Cavell\": (50.9406812, 4.2104519),\n",
    "    \"Cliniques de l'Europe\": (50.9405649, 4.2105543),\n",
    "    \"Epsylon ASBL\": (50.9403610, 4.2105000),\n",
    "    \"Hôpital Etterbeek-Ixelles\": (50.9407687, 4.2107004),\n",
    "    \"Clinique Saint-Jean\": (50.9411201, 4.2105495),\n",
    "    \"Hôpitaux iris Ziekenhuizen\": (50.9408986, 4.2104647),\n",
    "}\n",
    "\n",
    "\n",
    "# Calculate the center of the coordinates for map centering\n",
    "latitudes = [coord[0] for coord in coordinates_data.values()]\n",
    "longitudes = [coord[1] for coord in coordinates_data.values()]\n",
    "center_latitude = sum(latitudes) / len(latitudes)\n",
    "center_longitude = sum(longitudes) / len(longitudes)\n",
    "\n",
    "# Create a Folium map centered around the coordinates\n",
    "m = folium.Map(location=[center_latitude, center_longitude], zoom_start=17, tiles=\"Esri World Imagery\")\n",
    "# You can change tiles to different providers, e.g., \"OpenStreetMap\", \"Stamen Terrain\", etc.\n",
    "# \"Esri World Imagery\" is a good choice for satellite images.\n",
    "\n",
    "# Add markers for each location\n",
    "for name, coord in coordinates_data.items():\n",
    "    folium.Marker(\n",
    "        location=coord,\n",
    "        popup=name,\n",
    "        icon=folium.Icon(color=\"red\") # You can customize the marker icon\n",
    "    ).add_to(m)\n",
    "\n",
    "# Save the map to an HTML file\n",
    "m.save(\"coordinates_map.html\")\n",
    "\n",
    "print(\"Map saved to coordinates_map.html\")\n",
    "print(\"Open coordinates_map.html in your web browser to view the map.\")"
   ]
  },
  {
   "cell_type": "code",
   "execution_count": null,
   "id": "2b93d0bd",
   "metadata": {},
   "outputs": [],
   "source": []
  }
 ],
 "metadata": {
  "kernelspec": {
   "display_name": "Python 3",
   "language": "python",
   "name": "python3"
  },
  "language_info": {
   "codemirror_mode": {
    "name": "ipython",
    "version": 3
   },
   "file_extension": ".py",
   "mimetype": "text/x-python",
   "name": "python",
   "nbconvert_exporter": "python",
   "pygments_lexer": "ipython3",
   "version": "3.11.9"
  }
 },
 "nbformat": 4,
 "nbformat_minor": 5
}
